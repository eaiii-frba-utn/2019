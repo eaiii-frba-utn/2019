{
 "cells": [
  {
   "cell_type": "code",
   "execution_count": 2,
   "metadata": {},
   "outputs": [],
   "source": [
    "import math\n",
    "import cmath \n",
    "import numpy as np\n",
    "import matplotlib.pyplot as plt\n",
    "from skrf import Network, Frequency\n",
    "\n",
    "\n",
    "from IPython.display import Image  \n",
    "%matplotlib inline\n",
    "params = {'legend.fontsize': 24,\n",
    "          'figure.figsize': (10, 10),\n",
    "         'axes.labelsize': 24,\n",
    "         'axes.titlesize': 24,\n",
    "         'xtick.labelsize':24,\n",
    "         'ytick.labelsize':24}\n",
    "plt.rcParams.update(params)\n",
    "\n",
    "\n"
   ]
  },
  {
   "cell_type": "code",
   "execution_count": 56,
   "metadata": {},
   "outputs": [],
   "source": [
    "def Linvill(yt):\n",
    "    y11 = yt[0,0]\n",
    "    y12 = yt[0,1]\n",
    "    y21 = yt[1,0]\n",
    "    y22 = yt[1,1]\n",
    "    C = (abs(y12*y21))/(2*y11.real*y22.real-(y12*y21).real)\n",
    "    print('###############  LINVILL   #####################')\n",
    "    print( 'coeficiente de linvill C= {:4.2F}' .format(C))\n",
    "    if C < 1:\n",
    "        print( 'Es incondicionalmente estable')\n",
    "    else :\n",
    "        print( 'Es potencialmente inestable')\n",
    "    return C\n",
    "\n",
    "def Stern(yg, yl, yt):\n",
    "    y11 = yt[0,0]\n",
    "    y12 = yt[0,1]\n",
    "    y21 = yt[1,0]\n",
    "    y22 = yt[1,1]\n",
    "    K = (2*(y11.real+yg.real)*(y22.real+yl.real)) / (abs(y12*y21)+(y12*y21).real)\n",
    "    print('###############  STERN   #####################')\n",
    "    print( 'coeficiente de stern K= {:4.2F}' .format(K))\n",
    "    if K > 1:\n",
    "        print( 'Estable')\n",
    "    else :\n",
    "        print( 'Inestable')\n",
    "      \n",
    "    yin  = y11 - (y21*y12)/(y22+yl)\n",
    "    yout = y22 - (y21*y12)/(y11+yg)\n",
    "    print( 'yin  = {0.real:4.3F} {0.imag:4.2E}' .format(yin) )\n",
    "    print( 'rin  = {0.real:4.3F} ' .format(1/yin.real) )\n",
    "    \n",
    "    print( 'yout = {0.real:4.3F} {0.imag:4.2E}' .format(yout) )\n",
    "    print( 'rout = {0.real:4.3F} ' .format(1/yout.real) )\n",
    "    \n",
    "    \n",
    "    Gg = yin.real/(yg+yin).real\n",
    "    G  = abs(y21)**2 *yl.real /(yin).real  /(y22+yl).real**2\n",
    "    Gt = 4* abs(y21)**2 *yl.real *yg.real /abs((y11+yg)*(y22+yl)-y21*y12)**2\n",
    "    \n",
    "    print( 'Gg= {0.real:4.2F} ' .format((Gg)))\n",
    "    print( 'G = {0.real:4.2F} ' .format((G )))\n",
    "    print( 'Gt= {0.real:4.2F} dB' .format((10*np.log10(Gt) )))\n",
    "\n",
    "\n",
    "\n",
    "\n",
    "\n",
    "def neutraliza(yt,wo,n = 1):\n",
    "    Cn = -yt[0,1].imag/wo*n\n",
    "    y11 =  wo*Cn*1j\n",
    "    y12 =  wo*Cn*1j/n\n",
    "    y21 =  wo*Cn*1j/n\n",
    "    y22 =  wo*Cn*1j/n**2\n",
    "    yn  = np.matrix([[y11, y12],[ y21, y22]])\n",
    "    # cuadripolo resultante\n",
    "    ytn  = yt + yn\n",
    "    print('cap=',Cn, 'n=', n)\n",
    "    return (ytn,Cn)\n",
    "\n",
    "\n",
    "def realimenta(yt,wo,yf):\n",
    "    y11 =   yf\n",
    "    y12 =  -yf\n",
    "    y21 =  -yf\n",
    "    y22 =   yf  \n",
    "    yn  = np.matrix([[y11, y12],[ y21, y22]])\n",
    "    # cuadripolo resultante\n",
    "    ytn  = yt + yn\n",
    "    return (ytn)\n",
    "\n",
    "def printS(S1):\n",
    "    s11 =   S1[0,0]\n",
    "    s12 =   S1[0,1]\n",
    "    s21 =   S1[1,0]\n",
    "    s22 =   S1[1,1]\n",
    "    print( 's11= {:4.3f}  {:4.2f}' .format(abs(s11),np.angle(s11)*180/np.pi ))\n",
    "    print( 's12= {:4.3f}  {:4.2f}' .format(abs(s12),np.angle(s12)*180/np.pi ))\n",
    "    print( 's21= {:4.3f}  {:4.2f}' .format(abs(s21),np.angle(s21)*180/np.pi ))\n",
    "    print( 's22= {:4.3f}  {:4.2f}' .format(abs(s22),np.angle(s22)*180/np.pi ))\n",
    "\n",
    "def printY(Y1):\n",
    "    y11 =   Y1[0,0]\n",
    "    y12 =   Y1[0,1]\n",
    "    y21 =   Y1[1,0]\n",
    "    y22 =   Y1[1,1]\n",
    "    print( 'y11= {0.real:4.2E}  {0.imag:4.2E}j' .format(y11) )\n",
    "    print( 'y12= {0.real:4.2E}  {0.imag:4.2E}j' .format(y12) )\n",
    "    print( 'y21= {0.real:4.2E}  {0.imag:4.2E}j' .format(y21) )\n",
    "    print( 'y22= {0.real:4.2E}  {0.imag:4.2E}j' .format(y22) )\n",
    "    print(' ')\n",
    "\n",
    "    print( 'r11= {0.real:4.2F}' .format(1/y11.real) )\n",
    "    print( 'c11= {0.real:4.2E}' .format(y11.imag/wo) )\n",
    "\n",
    "\n",
    "    print( 'gm = {0.real:4.2F}' .format(abs(y21)) )\n",
    "    print( 'gr = {0.real:4.4F}' .format(abs(y12)) )\n",
    "\n",
    "    print( 'r22= {0.real:4.2F}' .format(1/y22.real) )\n",
    "    print( 'c22= {0.real:4.2E}' .format(y22.imag/wo) )\n",
    "\n",
    "   "
   ]
  },
  {
   "cell_type": "code",
   "execution_count": 57,
   "metadata": {},
   "outputs": [],
   "source": [
    "BFP720 = Network('SPICE/BFP720_w_noise_VCE_3.0V_IC_10mA.s2p')\n",
    "\n",
    "freq = Frequency(10,200,11,'mhz')\n"
   ]
  },
  {
   "cell_type": "code",
   "execution_count": 58,
   "metadata": {},
   "outputs": [
    {
     "name": "stdout",
     "output_type": "stream",
     "text": [
      "Parametros S 50MHz (3V10mA):\n",
      "s11= 0.872  -3.10\n",
      "s12= 0.002  84.60\n",
      "s21= 25.105  176.60\n",
      "s22= 0.995  -1.90\n",
      " \n",
      "Parametros Y 50MHz (3V10mA):\n",
      "y11= 1.34E-03  2.96E-04j\n",
      "y12= -1.16E-06  -1.82E-05j\n",
      "y21= 2.69E-01  -7.78E-03j\n",
      "y22= 2.78E-05  1.04E-04j\n",
      " \n",
      "r11= 744.33\n",
      "c11= 9.41E-13\n",
      "gm = 0.27\n",
      "gr = 0.0000\n",
      "r22= 36008.22\n",
      "c22= 3.31E-13\n"
     ]
    }
   ],
   "source": [
    "fo = 50e6\n",
    "wo = 2*np.pi*fo\n",
    "\n",
    "print('Parametros S 50MHz (3V10mA):')\n",
    "\n",
    "printS(BFP720['50mhz'].s[0])\n",
    "print(' ')\n",
    "\n",
    "print('Parametros Y 50MHz (3V10mA):')\n",
    "Y100 = BFP720['50mhz'].y[0]\n",
    "\n",
    "printY(Y100)"
   ]
  },
  {
   "cell_type": "code",
   "execution_count": 59,
   "metadata": {},
   "outputs": [
    {
     "name": "stdout",
     "output_type": "stream",
     "text": [
      "###############  LINVILL   #####################\n",
      "coeficiente de linvill C= 9.26\n",
      "Es potencialmente inestable\n"
     ]
    },
    {
     "data": {
      "text/plain": [
       "9.2649063671342677"
      ]
     },
     "execution_count": 59,
     "metadata": {},
     "output_type": "execute_result"
    }
   ],
   "source": [
    "Linvill(Y100)\n"
   ]
  },
  {
   "cell_type": "code",
   "execution_count": 60,
   "metadata": {},
   "outputs": [
    {
     "name": "stdout",
     "output_type": "stream",
     "text": [
      "y11= 2.34E-03  2.96E-04j\n",
      "y12= -1.00E-03  -1.82E-05j\n",
      "y21= 2.68E-01  -7.78E-03j\n",
      "y22= 1.03E-03  1.04E-04j\n",
      " \n",
      "r11= 426.71\n",
      "c11= 9.41E-13\n",
      "gm = 0.27\n",
      "gr = 0.0010\n",
      "r22= 972.98\n",
      "c22= 3.31E-13\n",
      "###############  LINVILL   #####################\n",
      "coeficiente de linvill C= 0.98\n",
      "Es incondicionalmente estable\n"
     ]
    },
    {
     "data": {
      "text/plain": [
       "0.98240244203389149"
      ]
     },
     "execution_count": 60,
     "metadata": {},
     "output_type": "execute_result"
    }
   ],
   "source": [
    "ytn  =  realimenta(Y100,wo,1/1e3 )\n",
    "\n",
    "printY(ytn)\n",
    "\n",
    "Linvill(ytn)\n"
   ]
  },
  {
   "cell_type": "code",
   "execution_count": 61,
   "metadata": {},
   "outputs": [
    {
     "name": "stdout",
     "output_type": "stream",
     "text": [
      "3.0315227255599115e-06\n",
      "3.342253804929802e-12\n",
      "8.420896459888643e-06\n",
      "1.203211369774729e-12\n",
      "###############  STERN   #####################\n",
      "coeficiente de stern K= 40142.13\n",
      "Estable\n",
      "yin  = 0.021 4.48E-04\n",
      "rin  = 47.612 \n",
      "yout = 0.013 3.78E-04\n",
      "rout = 76.842 \n",
      "Gg= 0.51 \n",
      "G = 220.55 \n",
      "Gt= 23.43 dB\n"
     ]
    }
   ],
   "source": [
    "yg = (1/50 ) - 1.05E-03j\n",
    "print(1/(1.05E-03*wo) )\n",
    "print((1.05E-03/wo) )\n",
    "\n",
    "yl= (1/75 ) - 3.78E-04j\n",
    "print(1/(3.78E-04*wo) )\n",
    "print(3.78E-04/wo) \n",
    "\n",
    "\n",
    "Stern(yg, yl, ytn)"
   ]
  },
  {
   "cell_type": "code",
   "execution_count": null,
   "metadata": {},
   "outputs": [],
   "source": []
  },
  {
   "cell_type": "code",
   "execution_count": null,
   "metadata": {},
   "outputs": [],
   "source": []
  }
 ],
 "metadata": {
  "kernelspec": {
   "display_name": "Python 3",
   "language": "python",
   "name": "python3"
  },
  "language_info": {
   "codemirror_mode": {
    "name": "ipython",
    "version": 3
   },
   "file_extension": ".py",
   "mimetype": "text/x-python",
   "name": "python",
   "nbconvert_exporter": "python",
   "pygments_lexer": "ipython3",
   "version": "3.5.4"
  }
 },
 "nbformat": 4,
 "nbformat_minor": 2
}
