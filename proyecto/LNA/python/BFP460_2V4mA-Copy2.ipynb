{
 "cells": [
  {
   "cell_type": "code",
   "execution_count": 1,
   "metadata": {},
   "outputs": [],
   "source": [
    "import math\n",
    "import cmath \n",
    "import numpy as np\n",
    "import matplotlib.pyplot as plt\n",
    "from skrf import Network, Frequency\n",
    "from skrf.media import DistributedCircuit\n",
    "from skrf import Frequency\n",
    "from skrf import network\n",
    "from skrf.network import *\n",
    "\n",
    "from skrf import plotting \n",
    "\n",
    "\n",
    "from IPython.display import Image  \n",
    "%matplotlib inline\n",
    "params = {'legend.fontsize': 14,\n",
    "          'figure.figsize': (10, 10),\n",
    "         'axes.labelsize': 14,\n",
    "         'axes.titlesize': 14,\n",
    "         'xtick.labelsize':14,\n",
    "         'ytick.labelsize':14}\n",
    "plt.rcParams.update(params)\n",
    "\n",
    "\n"
   ]
  },
  {
   "cell_type": "code",
   "execution_count": 2,
   "metadata": {},
   "outputs": [],
   "source": [
    "\n",
    "def Nparallel(freq, ya, yb, z0=50):\n",
    "    y = np.empty(shape=(len(freq.f),2,2), dtype=complex)\n",
    "    for i,f in enumerate(freq.f):\n",
    "        y[i,0,0] =  ya[i,0,0] +  yb[i,0,0]\n",
    "        y[i,0,1] =  ya[i,0,1] +  yb[i,0,1]\n",
    "        y[i,1,0] =  ya[i,1,0] +  yb[i,1,0]\n",
    "        y[i,1,1] =  ya[i,1,1] +  yb[i,1,1]\n",
    "    a = network.y2s(y,z0=z0)\n",
    "    ntwk = Network(frequency=freq, s= a, z0=z0)\n",
    "    return ntwk\n",
    "\n",
    "\n",
    "\n",
    "## Convierte a network de skrf una admitancia.\n",
    "def Nadmi(freq, yb, z0=50):\n",
    "    y = np.empty(shape=(len(freq.f),2,2), dtype=complex)\n",
    "    for i,f in enumerate(freq.f):\n",
    "        y[i,0,0] =   yb\n",
    "        y[i,0,1] =  -yb\n",
    "        y[i,1,0] =  -yb\n",
    "        y[i,1,1] =   yb\n",
    "    a = network.y2s(y,z0=z0)\n",
    "    ntwk = Network(frequency=freq, s= a, z0=z0)\n",
    "    return ntwk\n"
   ]
  },
  {
   "cell_type": "code",
   "execution_count": 3,
   "metadata": {},
   "outputs": [],
   "source": [
    "def Linvill(yt, showme = False):\n",
    "    y11 = yt[0,0]\n",
    "    y12 = yt[0,1]\n",
    "    y21 = yt[1,0]\n",
    "    y22 = yt[1,1]\n",
    "    C = (abs(y12*y21))/(2*y11.real*y22.real-(y12*y21).real)\n",
    "    if showme:\n",
    "        print('###############  LINVILL   #####################')\n",
    "        print( 'coeficiente de linvill C= {:4.2F}' .format(C))\n",
    "        if C < 1:\n",
    "            print( 'Es incondicionalmente estable')\n",
    "        else :\n",
    "            print( 'Es potencialmente inestable')\n",
    "    return C\n",
    "\n",
    "def cosas():\n",
    "    yin  = y11 - (y21*y12)/(y22+yl)\n",
    "    yout = y22 - (y21*y12)/(y11+yg)\n",
    "    print( 'yin  = {0.real:4.3F} {0.imag:4.2E}' .format(yin) )\n",
    "    print( 'rin  = {0.real:4.3F} ' .format(1/yin.real) )\n",
    "    \n",
    "    print( 'yout = {0.real:4.3F} {0.imag:4.2E}' .format(yout) )\n",
    "    print( 'rout = {0.real:4.3F} ' .format(1/yout.real) )\n",
    "    \n",
    "    \n",
    "    Gg = yin.real/(yg+yin).real\n",
    "    G  = abs(y21)**2 *yl.real /(yin).real  /(y22+yl).real**2\n",
    "    Gt = 4* abs(y21)**2 *yl.real *yg.real /abs((y11+yg)*(y22+yl)-y21*y12)**2\n",
    "    \n",
    "    print( 'Gg= {0.real:4.2F} ' .format((Gg)))\n",
    "    print( 'G = {0.real:4.2F} ' .format((G )))\n",
    "    print( 'Gt= {0.real:4.2F} dB' .format((10*np.log10(Gt) )))\n",
    "\n",
    "def Stern(yg, yl, yt, showme = False):\n",
    "    y11 = yt[0,0]\n",
    "    y12 = yt[0,1]\n",
    "    y21 = yt[1,0]\n",
    "    y22 = yt[1,1]\n",
    "    K = (2*(y11.real+yg.real)*(y22.real+yl.real)) / (abs(y12*y21)+(y12*y21).real)\n",
    "    if showme:\n",
    "        print('###############  STERN   #####################')\n",
    "        print( 'coeficiente de stern K= {:4.2F}' .format(K))\n",
    "        if K > 1:\n",
    "            print( 'Estable')\n",
    "        else :\n",
    "            print( 'Inestable')\n",
    "    return K        \n",
    "      \n",
    "    \n",
    "\n",
    "\n",
    "\n",
    "\n",
    "\n",
    "def neutraliza(yt,wo,n = 1):\n",
    "    Cn = -yt[0,1].imag/wo*n\n",
    "    y11 =  wo*Cn*1j\n",
    "    y12 =  wo*Cn*1j/n\n",
    "    y21 =  wo*Cn*1j/n\n",
    "    y22 =  wo*Cn*1j/n**2\n",
    "    yn  = np.matrix([[y11, y12],[ y21, y22]])\n",
    "    # cuadripolo resultante\n",
    "    ytn  = yt + yn\n",
    "    print('cap=',Cn, 'n=', n)\n",
    "    return (ytn,Cn)\n",
    "\n",
    "\n",
    "def realimenta(yt,yf):\n",
    "    y11 =   yf\n",
    "    y12 =  -yf\n",
    "    y21 =  -yf\n",
    "    y22 =   yf  \n",
    "    yn  = np.matrix([[y11, y12],[ y21, y22]])\n",
    "    # cuadripolo resultante\n",
    "    ytn  = yt + yn\n",
    "    return (ytn)\n",
    "\n",
    "def printS(S1):\n",
    "    s11 =   S1[0,0]\n",
    "    s12 =   S1[0,1]\n",
    "    s21 =   S1[1,0]\n",
    "    s22 =   S1[1,1]\n",
    "    print( 's11= {:4.3f}  {:4.2f}' .format(abs(s11),np.angle(s11)*180/np.pi ))\n",
    "    print( 's12= {:4.3f}  {:4.2f}' .format(abs(s12),np.angle(s12)*180/np.pi ))\n",
    "    print( 's21= {:4.3f}  {:4.2f}' .format(abs(s21),np.angle(s21)*180/np.pi ))\n",
    "    print( 's22= {:4.3f}  {:4.2f}' .format(abs(s22),np.angle(s22)*180/np.pi ))\n",
    "\n",
    "def printY(Y1):\n",
    "    y11 =   Y1[0,0]\n",
    "    y12 =   Y1[0,1]\n",
    "    y21 =   Y1[1,0]\n",
    "    y22 =   Y1[1,1]\n",
    "    print( 'y11= {0.real:4.2E}  {0.imag:4.2E}j' .format(y11) )\n",
    "    print( 'y12= {0.real:4.2E}  {0.imag:4.2E}j' .format(y12) )\n",
    "    print( 'y21= {0.real:4.2E}  {0.imag:4.2E}j' .format(y21) )\n",
    "    print( 'y22= {0.real:4.2E}  {0.imag:4.2E}j' .format(y22) )\n",
    "    print(' ')\n",
    "\n",
    "    print( 'r11= {0.real:4.2F}' .format(1/y11.real) )\n",
    "    print( 'c11= {0.real:4.2E}' .format(y11.imag/wo) )\n",
    "\n",
    "\n",
    "    print( 'gm = {0.real:4.2F}' .format(abs(y21)) )\n",
    "    print( 'gr = {0.real:4.4F}' .format(abs(y12)) )\n",
    "\n",
    "    print( 'r22= {0.real:4.2F}' .format(1/y22.real) )\n",
    "    print( 'c22= {0.real:4.2E}' .format(y22.imag/wo) )\n",
    "\n",
    "  \n",
    "    return\n",
    "\n",
    "def Linvill2(net):\n",
    "    c = list()\n",
    "    for n in net:\n",
    "        c.append(Linvill(n))\n",
    "    return c\n",
    "\n",
    "\n",
    "def Stern2(net, yg, yl):\n",
    "    c = list()\n",
    "    for n in net:\n",
    "        c.append(Stern(yg,yl,n))\n",
    "    return c\n",
    "\n",
    "def realimenta(net, yf):\n",
    "    netf = list()\n",
    "    for yn in net:\n",
    "        netf.append(realimenta(yn,yf) )\n",
    "    return netf  \n",
    "        "
   ]
  },
  {
   "cell_type": "code",
   "execution_count": 9,
   "metadata": {},
   "outputs": [],
   "source": [
    "npn = Network('SPAR/BFP460/BFP460_w_noise_VCE_2.5V_IC_5.0mA.s2p')\n"
   ]
  },
  {
   "cell_type": "code",
   "execution_count": 21,
   "metadata": {},
   "outputs": [
    {
     "data": {
      "image/png": "[encoded data removed]",
      "text/plain": [
       "<Figure size 432x288 with 1 Axes>"
      ]
     },
     "metadata": {
      "needs_background": "light"
     },
     "output_type": "display_data"
    }
   ],
   "source": [
    "freq = Frequency(31,200,231,'mhz')\n",
    "\n",
    "\n",
    "npn[0:30].plot_z_mag(m=1,n=1)"
   ]
  },
  {
   "cell_type": "code",
   "execution_count": 39,
   "metadata": {},
   "outputs": [
    {
     "ename": "IndexError",
     "evalue": "only integers, slices (`:`), ellipsis (`...`), numpy.newaxis (`None`) and integer or boolean arrays are valid indices",
     "output_type": "error",
     "traceback": [
      "\u001b[0;31m---------------------------------------------------------------------------\u001b[0m",
      "\u001b[0;31mIndexError\u001b[0m                                Traceback (most recent call last)",
      "\u001b[0;32m<ipython-input-39-cf1e95ae58d7>\u001b[0m in \u001b[0;36m<module>\u001b[0;34m\u001b[0m\n\u001b[1;32m      1\u001b[0m \u001b[0myf\u001b[0m    \u001b[0;34m=\u001b[0m \u001b[0mNadmi\u001b[0m\u001b[0;34m(\u001b[0m\u001b[0mfreq\u001b[0m\u001b[0;34m,\u001b[0m \u001b[0;36m1\u001b[0m\u001b[0;34m/\u001b[0m\u001b[0;36m2e3\u001b[0m\u001b[0;34m)\u001b[0m\u001b[0;34m\u001b[0m\u001b[0;34m\u001b[0m\u001b[0m\n\u001b[0;32m----> 2\u001b[0;31m \u001b[0mmynpn\u001b[0m \u001b[0;34m=\u001b[0m \u001b[0mNparallel\u001b[0m\u001b[0;34m(\u001b[0m\u001b[0mfreq\u001b[0m\u001b[0;34m,\u001b[0m \u001b[0mnpn\u001b[0m\u001b[0;34m[\u001b[0m\u001b[0mfreq\u001b[0m\u001b[0;34m]\u001b[0m\u001b[0;34m,\u001b[0m \u001b[0myf\u001b[0m\u001b[0;34m,\u001b[0m \u001b[0mz0\u001b[0m\u001b[0;34m=\u001b[0m\u001b[0;36m50\u001b[0m\u001b[0;34m)\u001b[0m\u001b[0;34m\u001b[0m\u001b[0;34m\u001b[0m\u001b[0m\n\u001b[0m",
      "\u001b[0;32m~/anaconda3/lib/python3.7/site-packages/skrf/network.py\u001b[0m in \u001b[0;36m__getitem__\u001b[0;34m(self, key)\u001b[0m\n\u001b[1;32m    674\u001b[0m             \u001b[0;32melse\u001b[0m\u001b[0;34m:\u001b[0m\u001b[0;34m\u001b[0m\u001b[0;34m\u001b[0m\u001b[0m\n\u001b[1;32m    675\u001b[0m                 \u001b[0;32mraise\u001b[0m \u001b[0mValueError\u001b[0m\u001b[0;34m(\u001b[0m\u001b[0;34m\"Don't understand index: {0}\"\u001b[0m\u001b[0;34m.\u001b[0m\u001b[0mformat\u001b[0m\u001b[0;34m(\u001b[0m\u001b[0mkey\u001b[0m\u001b[0;34m)\u001b[0m\u001b[0;34m)\u001b[0m\u001b[0;34m\u001b[0m\u001b[0;34m\u001b[0m\u001b[0m\n\u001b[0;32m--> 676\u001b[0;31m         \u001b[0msliced_frequency\u001b[0m \u001b[0;34m=\u001b[0m \u001b[0mself\u001b[0m\u001b[0;34m.\u001b[0m\u001b[0mfrequency\u001b[0m\u001b[0;34m[\u001b[0m\u001b[0mkey\u001b[0m\u001b[0;34m]\u001b[0m\u001b[0;34m\u001b[0m\u001b[0;34m\u001b[0m\u001b[0m\n\u001b[0m\u001b[1;32m    677\u001b[0m         \u001b[0;32mreturn\u001b[0m \u001b[0mself\u001b[0m\u001b[0;34m.\u001b[0m\u001b[0minterpolate\u001b[0m\u001b[0;34m(\u001b[0m\u001b[0msliced_frequency\u001b[0m\u001b[0;34m)\u001b[0m\u001b[0;34m\u001b[0m\u001b[0;34m\u001b[0m\u001b[0m\n\u001b[1;32m    678\u001b[0m \u001b[0;34m\u001b[0m\u001b[0m\n",
      "\u001b[0;32m~/anaconda3/lib/python3.7/site-packages/skrf/frequency.py\u001b[0m in \u001b[0;36m__getitem__\u001b[0;34m(self, key)\u001b[0m\n\u001b[1;32m    207\u001b[0m \u001b[0;34m\u001b[0m\u001b[0m\n\u001b[1;32m    208\u001b[0m         \u001b[0;32mif\u001b[0m \u001b[0moutput\u001b[0m\u001b[0;34m.\u001b[0m\u001b[0mf\u001b[0m\u001b[0;34m.\u001b[0m\u001b[0mshape\u001b[0m\u001b[0;34m[\u001b[0m\u001b[0;36m0\u001b[0m\u001b[0;34m]\u001b[0m \u001b[0;34m>\u001b[0m \u001b[0;36m0\u001b[0m\u001b[0;34m:\u001b[0m\u001b[0;34m\u001b[0m\u001b[0;34m\u001b[0m\u001b[0m\n\u001b[0;32m--> 209\u001b[0;31m             \u001b[0moutput\u001b[0m\u001b[0;34m.\u001b[0m\u001b[0mf\u001b[0m \u001b[0;34m=\u001b[0m \u001b[0mnpy\u001b[0m\u001b[0;34m.\u001b[0m\u001b[0marray\u001b[0m\u001b[0;34m(\u001b[0m\u001b[0moutput\u001b[0m\u001b[0;34m.\u001b[0m\u001b[0mf\u001b[0m\u001b[0;34m[\u001b[0m\u001b[0mkey\u001b[0m\u001b[0;34m]\u001b[0m\u001b[0;34m)\u001b[0m\u001b[0;34m.\u001b[0m\u001b[0mreshape\u001b[0m\u001b[0;34m(\u001b[0m\u001b[0;34m-\u001b[0m\u001b[0;36m1\u001b[0m\u001b[0;34m)\u001b[0m\u001b[0;34m\u001b[0m\u001b[0;34m\u001b[0m\u001b[0m\n\u001b[0m\u001b[1;32m    210\u001b[0m         \u001b[0;32melse\u001b[0m\u001b[0;34m:\u001b[0m\u001b[0;34m\u001b[0m\u001b[0;34m\u001b[0m\u001b[0m\n\u001b[1;32m    211\u001b[0m             \u001b[0moutput\u001b[0m\u001b[0;34m.\u001b[0m\u001b[0mf\u001b[0m \u001b[0;34m=\u001b[0m \u001b[0mnpy\u001b[0m\u001b[0;34m.\u001b[0m\u001b[0mempty\u001b[0m\u001b[0;34m(\u001b[0m\u001b[0mshape\u001b[0m\u001b[0;34m=\u001b[0m\u001b[0;34m(\u001b[0m\u001b[0;36m0\u001b[0m\u001b[0;34m)\u001b[0m\u001b[0;34m)\u001b[0m\u001b[0;34m\u001b[0m\u001b[0;34m\u001b[0m\u001b[0m\n",
      "\u001b[0;31mIndexError\u001b[0m: only integers, slices (`:`), ellipsis (`...`), numpy.newaxis (`None`) and integer or boolean arrays are valid indices"
     ]
    }
   ],
   "source": [
    "yf    = Nadmi(freq, 1/2e3)\n",
    "mynpn = Nparallel(freq, npn[freq], yf, z0=50)\n"
   ]
  },
  {
   "cell_type": "code",
   "execution_count": 23,
   "metadata": {},
   "outputs": [
    {
     "data": {
      "text/plain": [
       "[<matplotlib.lines.Line2D at 0x7f8246ae9ad0>]"
      ]
     },
     "execution_count": 23,
     "metadata": {},
     "output_type": "execute_result"
    },
    {
     "data": {
      "image/png": "[encoded data removed]",
      "text/plain": [
       "<Figure size 432x288 with 1 Axes>"
      ]
     },
     "metadata": {
      "needs_background": "light"
     },
     "output_type": "display_data"
    }
   ],
   "source": [
    "plt.plot(npn[0:30].f,npn[0:30].stability, 'o')"
   ]
  },
  {
   "cell_type": "code",
   "execution_count": 29,
   "metadata": {},
   "outputs": [
    {
     "data": {
      "text/plain": [
       "[<matplotlib.lines.Line2D at 0x7f8246ba7450>]"
      ]
     },
     "execution_count": 29,
     "metadata": {},
     "output_type": "execute_result"
    },
    {
     "data": {
      "image/png": "[encoded data removed]",
      "text/plain": [
       "<Figure size 432x288 with 1 Axes>"
      ]
     },
     "metadata": {
      "needs_background": "light"
     },
     "output_type": "display_data"
    }
   ],
   "source": [
    "C = Linvill2(npn[0:30].y)\n",
    "plt.plot(npn.f[0:30],Cbpf)"
   ]
  },
  {
   "cell_type": "code",
   "execution_count": 35,
   "metadata": {},
   "outputs": [
    {
     "ename": "ValueError",
     "evalue": "x and y arrays must have at least 2 entries",
     "output_type": "error",
     "traceback": [
      "\u001b[0;31m---------------------------------------------------------------------------\u001b[0m",
      "\u001b[0;31mValueError\u001b[0m                                Traceback (most recent call last)",
      "\u001b[0;32m<ipython-input-35-3474844cc655>\u001b[0m in \u001b[0;36m<module>\u001b[0;34m\u001b[0m\n\u001b[0;32m----> 1\u001b[0;31m \u001b[0mmynpn\u001b[0m \u001b[0;34m=\u001b[0m \u001b[0mrealimenta\u001b[0m\u001b[0;34m(\u001b[0m\u001b[0mnpn\u001b[0m\u001b[0;34m,\u001b[0m \u001b[0;36m1\u001b[0m\u001b[0;34m/\u001b[0m\u001b[0;36m2e3\u001b[0m\u001b[0;34m)\u001b[0m\u001b[0;34m\u001b[0m\u001b[0;34m\u001b[0m\u001b[0m\n\u001b[0m\u001b[1;32m      2\u001b[0m \u001b[0;34m\u001b[0m\u001b[0m\n\u001b[1;32m      3\u001b[0m \u001b[0mC\u001b[0m \u001b[0;34m=\u001b[0m \u001b[0mLinvill2\u001b[0m\u001b[0;34m(\u001b[0m\u001b[0mmynpn\u001b[0m\u001b[0;34m[\u001b[0m\u001b[0;36m0\u001b[0m\u001b[0;34m:\u001b[0m\u001b[0;36m30\u001b[0m\u001b[0;34m]\u001b[0m\u001b[0;34m.\u001b[0m\u001b[0my\u001b[0m\u001b[0;34m)\u001b[0m\u001b[0;34m\u001b[0m\u001b[0;34m\u001b[0m\u001b[0m\n\u001b[1;32m      4\u001b[0m \u001b[0mplt\u001b[0m\u001b[0;34m.\u001b[0m\u001b[0msemilogy\u001b[0m\u001b[0;34m(\u001b[0m\u001b[0mmynpn\u001b[0m\u001b[0;34m.\u001b[0m\u001b[0mf\u001b[0m\u001b[0;34m[\u001b[0m\u001b[0;36m0\u001b[0m\u001b[0;34m:\u001b[0m\u001b[0;36m30\u001b[0m\u001b[0;34m]\u001b[0m\u001b[0;34m,\u001b[0m \u001b[0mC\u001b[0m\u001b[0;34m)\u001b[0m\u001b[0;34m\u001b[0m\u001b[0;34m\u001b[0m\u001b[0m\n",
      "\u001b[0;32m<ipython-input-3-26a7975bc917>\u001b[0m in \u001b[0;36mrealimenta\u001b[0;34m(net, yf)\u001b[0m\n\u001b[1;32m    126\u001b[0m     \u001b[0mnetf\u001b[0m \u001b[0;34m=\u001b[0m \u001b[0mlist\u001b[0m\u001b[0;34m(\u001b[0m\u001b[0;34m)\u001b[0m\u001b[0;34m\u001b[0m\u001b[0;34m\u001b[0m\u001b[0m\n\u001b[1;32m    127\u001b[0m     \u001b[0;32mfor\u001b[0m \u001b[0myn\u001b[0m \u001b[0;32min\u001b[0m \u001b[0mnet\u001b[0m\u001b[0;34m:\u001b[0m\u001b[0;34m\u001b[0m\u001b[0;34m\u001b[0m\u001b[0m\n\u001b[0;32m--> 128\u001b[0;31m         \u001b[0mnetf\u001b[0m\u001b[0;34m.\u001b[0m\u001b[0mappend\u001b[0m\u001b[0;34m(\u001b[0m\u001b[0mrealimenta\u001b[0m\u001b[0;34m(\u001b[0m\u001b[0myn\u001b[0m\u001b[0;34m,\u001b[0m\u001b[0myf\u001b[0m\u001b[0;34m)\u001b[0m \u001b[0;34m)\u001b[0m\u001b[0;34m\u001b[0m\u001b[0;34m\u001b[0m\u001b[0m\n\u001b[0m\u001b[1;32m    129\u001b[0m     \u001b[0;32mreturn\u001b[0m \u001b[0mnetf\u001b[0m\u001b[0;34m\u001b[0m\u001b[0;34m\u001b[0m\u001b[0m\n\u001b[1;32m    130\u001b[0m \u001b[0;34m\u001b[0m\u001b[0m\n",
      "\u001b[0;32m<ipython-input-3-26a7975bc917>\u001b[0m in \u001b[0;36mrealimenta\u001b[0;34m(net, yf)\u001b[0m\n\u001b[1;32m    125\u001b[0m \u001b[0;32mdef\u001b[0m \u001b[0mrealimenta\u001b[0m\u001b[0;34m(\u001b[0m\u001b[0mnet\u001b[0m\u001b[0;34m,\u001b[0m \u001b[0myf\u001b[0m\u001b[0;34m)\u001b[0m\u001b[0;34m:\u001b[0m\u001b[0;34m\u001b[0m\u001b[0;34m\u001b[0m\u001b[0m\n\u001b[1;32m    126\u001b[0m     \u001b[0mnetf\u001b[0m \u001b[0;34m=\u001b[0m \u001b[0mlist\u001b[0m\u001b[0;34m(\u001b[0m\u001b[0;34m)\u001b[0m\u001b[0;34m\u001b[0m\u001b[0;34m\u001b[0m\u001b[0m\n\u001b[0;32m--> 127\u001b[0;31m     \u001b[0;32mfor\u001b[0m \u001b[0myn\u001b[0m \u001b[0;32min\u001b[0m \u001b[0mnet\u001b[0m\u001b[0;34m:\u001b[0m\u001b[0;34m\u001b[0m\u001b[0;34m\u001b[0m\u001b[0m\n\u001b[0m\u001b[1;32m    128\u001b[0m         \u001b[0mnetf\u001b[0m\u001b[0;34m.\u001b[0m\u001b[0mappend\u001b[0m\u001b[0;34m(\u001b[0m\u001b[0mrealimenta\u001b[0m\u001b[0;34m(\u001b[0m\u001b[0myn\u001b[0m\u001b[0;34m,\u001b[0m\u001b[0myf\u001b[0m\u001b[0;34m)\u001b[0m \u001b[0;34m)\u001b[0m\u001b[0;34m\u001b[0m\u001b[0;34m\u001b[0m\u001b[0m\n\u001b[1;32m    129\u001b[0m     \u001b[0;32mreturn\u001b[0m \u001b[0mnetf\u001b[0m\u001b[0;34m\u001b[0m\u001b[0;34m\u001b[0m\u001b[0m\n",
      "\u001b[0;32m~/anaconda3/lib/python3.7/site-packages/skrf/network.py\u001b[0m in \u001b[0;36m__getitem__\u001b[0;34m(self, key)\u001b[0m\n\u001b[1;32m    675\u001b[0m                 \u001b[0;32mraise\u001b[0m \u001b[0mValueError\u001b[0m\u001b[0;34m(\u001b[0m\u001b[0;34m\"Don't understand index: {0}\"\u001b[0m\u001b[0;34m.\u001b[0m\u001b[0mformat\u001b[0m\u001b[0;34m(\u001b[0m\u001b[0mkey\u001b[0m\u001b[0;34m)\u001b[0m\u001b[0;34m)\u001b[0m\u001b[0;34m\u001b[0m\u001b[0;34m\u001b[0m\u001b[0m\n\u001b[1;32m    676\u001b[0m         \u001b[0msliced_frequency\u001b[0m \u001b[0;34m=\u001b[0m \u001b[0mself\u001b[0m\u001b[0;34m.\u001b[0m\u001b[0mfrequency\u001b[0m\u001b[0;34m[\u001b[0m\u001b[0mkey\u001b[0m\u001b[0;34m]\u001b[0m\u001b[0;34m\u001b[0m\u001b[0;34m\u001b[0m\u001b[0m\n\u001b[0;32m--> 677\u001b[0;31m         \u001b[0;32mreturn\u001b[0m \u001b[0mself\u001b[0m\u001b[0;34m.\u001b[0m\u001b[0minterpolate\u001b[0m\u001b[0;34m(\u001b[0m\u001b[0msliced_frequency\u001b[0m\u001b[0;34m)\u001b[0m\u001b[0;34m\u001b[0m\u001b[0;34m\u001b[0m\u001b[0m\n\u001b[0m\u001b[1;32m    678\u001b[0m \u001b[0;34m\u001b[0m\u001b[0m\n\u001b[1;32m    679\u001b[0m     \u001b[0;32mdef\u001b[0m \u001b[0m__str__\u001b[0m\u001b[0;34m(\u001b[0m\u001b[0mself\u001b[0m\u001b[0;34m)\u001b[0m\u001b[0;34m:\u001b[0m\u001b[0;34m\u001b[0m\u001b[0;34m\u001b[0m\u001b[0m\n",
      "\u001b[0;32m~/anaconda3/lib/python3.7/site-packages/skrf/network.py\u001b[0m in \u001b[0;36minterpolate\u001b[0;34m(self, freq_or_n, basis, coords, f_kwargs, return_array, **kwargs)\u001b[0m\n\u001b[1;32m   1871\u001b[0m         \u001b[0;31m# interpolate z0  ( this must happen first, because its needed\u001b[0m\u001b[0;34m\u001b[0m\u001b[0;34m\u001b[0m\u001b[0;34m\u001b[0m\u001b[0m\n\u001b[1;32m   1872\u001b[0m         \u001b[0;31m# to compute the basis transform below (like y2s), if basis!='s')\u001b[0m\u001b[0;34m\u001b[0m\u001b[0;34m\u001b[0m\u001b[0;34m\u001b[0m\u001b[0m\n\u001b[0;32m-> 1873\u001b[0;31m         \u001b[0minterp_z0_re\u001b[0m \u001b[0;34m=\u001b[0m \u001b[0mf_interp\u001b[0m\u001b[0;34m(\u001b[0m\u001b[0mf\u001b[0m\u001b[0;34m,\u001b[0m \u001b[0mself\u001b[0m\u001b[0;34m.\u001b[0m\u001b[0mz0\u001b[0m\u001b[0;34m.\u001b[0m\u001b[0mreal\u001b[0m\u001b[0;34m,\u001b[0m \u001b[0maxis\u001b[0m\u001b[0;34m=\u001b[0m\u001b[0;36m0\u001b[0m\u001b[0;34m,\u001b[0m \u001b[0;34m**\u001b[0m\u001b[0mkwargs\u001b[0m\u001b[0;34m)\u001b[0m\u001b[0;34m\u001b[0m\u001b[0;34m\u001b[0m\u001b[0m\n\u001b[0m\u001b[1;32m   1874\u001b[0m         \u001b[0minterp_z0_im\u001b[0m \u001b[0;34m=\u001b[0m \u001b[0mf_interp\u001b[0m\u001b[0;34m(\u001b[0m\u001b[0mf\u001b[0m\u001b[0;34m,\u001b[0m \u001b[0mself\u001b[0m\u001b[0;34m.\u001b[0m\u001b[0mz0\u001b[0m\u001b[0;34m.\u001b[0m\u001b[0mimag\u001b[0m\u001b[0;34m,\u001b[0m \u001b[0maxis\u001b[0m\u001b[0;34m=\u001b[0m\u001b[0;36m0\u001b[0m\u001b[0;34m,\u001b[0m \u001b[0;34m**\u001b[0m\u001b[0mkwargs\u001b[0m\u001b[0;34m)\u001b[0m\u001b[0;34m\u001b[0m\u001b[0;34m\u001b[0m\u001b[0m\n\u001b[1;32m   1875\u001b[0m         \u001b[0mresult\u001b[0m\u001b[0;34m.\u001b[0m\u001b[0mz0\u001b[0m \u001b[0;34m=\u001b[0m \u001b[0minterp_z0_re\u001b[0m\u001b[0;34m(\u001b[0m\u001b[0mf_new\u001b[0m\u001b[0;34m)\u001b[0m \u001b[0;34m+\u001b[0m \u001b[0;36m1j\u001b[0m \u001b[0;34m*\u001b[0m \u001b[0minterp_z0_im\u001b[0m\u001b[0;34m(\u001b[0m\u001b[0mf_new\u001b[0m\u001b[0;34m)\u001b[0m\u001b[0;34m\u001b[0m\u001b[0;34m\u001b[0m\u001b[0m\n",
      "\u001b[0;32m~/anaconda3/lib/python3.7/site-packages/scipy/interpolate/interpolate.py\u001b[0m in \u001b[0;36m__init__\u001b[0;34m(***failed resolving arguments***)\u001b[0m\n\u001b[1;32m    539\u001b[0m         \u001b[0;32mif\u001b[0m \u001b[0mlen\u001b[0m\u001b[0;34m(\u001b[0m\u001b[0mself\u001b[0m\u001b[0;34m.\u001b[0m\u001b[0mx\u001b[0m\u001b[0;34m)\u001b[0m \u001b[0;34m<\u001b[0m \u001b[0mminval\u001b[0m\u001b[0;34m:\u001b[0m\u001b[0;34m\u001b[0m\u001b[0;34m\u001b[0m\u001b[0m\n\u001b[1;32m    540\u001b[0m             raise ValueError(\"x and y arrays must have at \"\n\u001b[0;32m--> 541\u001b[0;31m                              \"least %d entries\" % minval)\n\u001b[0m\u001b[1;32m    542\u001b[0m \u001b[0;34m\u001b[0m\u001b[0m\n\u001b[1;32m    543\u001b[0m     \u001b[0;34m@\u001b[0m\u001b[0mproperty\u001b[0m\u001b[0;34m\u001b[0m\u001b[0;34m\u001b[0m\u001b[0m\n",
      "\u001b[0;31mValueError\u001b[0m: x and y arrays must have at least 2 entries"
     ]
    }
   ],
   "source": [
    "mynpn = realimenta(npn, 1/2e3)\n",
    "\n",
    "C = Linvill2(mynpn[0:30].y)\n",
    "plt.semilogy(mynpn.f[0:30], C)"
   ]
  },
  {
   "cell_type": "code",
   "execution_count": null,
   "metadata": {},
   "outputs": [],
   "source": [
    "fo = 50e6\n",
    "wo = 2*np.pi*fo\n",
    "\n",
    "print('Parametros S 50MHz (3V10mA):')\n",
    "\n",
    "printS(BFP720['50mhz'].s[0])\n",
    "print(' ')\n",
    "\n",
    "print('Parametros Y 50MHz (3V10mA):')\n",
    "Y100 = BFP720['50mhz'].y[0]\n",
    "\n",
    "printY(Y100)"
   ]
  },
  {
   "cell_type": "code",
   "execution_count": null,
   "metadata": {},
   "outputs": [],
   "source": [
    "print( BFP720['30-80mhz'].f, BFP720['30-80mhz'].y[:])"
   ]
  },
  {
   "cell_type": "code",
   "execution_count": null,
   "metadata": {},
   "outputs": [],
   "source": [
    "Linvill(Y100)\n"
   ]
  },
  {
   "cell_type": "code",
   "execution_count": null,
   "metadata": {},
   "outputs": [],
   "source": [
    "ytn  =  realimenta(Y100,wo,1/2.3e3 )\n",
    "\n",
    "printY(ytn)\n",
    "\n",
    "Linvill(ytn)\n"
   ]
  },
  {
   "cell_type": "code",
   "execution_count": null,
   "metadata": {},
   "outputs": [],
   "source": [
    "yg = (1/50 ) - 7.27E-04j\n",
    "print((-yg.imag/wo) )\n",
    "\n",
    "yl= (1/120 ) - 2.78E-04j\n",
    "print(-yl.imag/wo) \n",
    "\n",
    "\n",
    "Stern(yg, yl, ytn)"
   ]
  },
  {
   "cell_type": "code",
   "execution_count": null,
   "metadata": {},
   "outputs": [],
   "source": []
  },
  {
   "cell_type": "code",
   "execution_count": null,
   "metadata": {},
   "outputs": [],
   "source": []
  }
 ],
 "metadata": {
  "kernelspec": {
   "display_name": "Python 3",
   "language": "python",
   "name": "python3"
  },
  "language_info": {
   "codemirror_mode": {
    "name": "ipython",
    "version": 3
   },
   "file_extension": ".py",
   "mimetype": "text/x-python",
   "name": "python",
   "nbconvert_exporter": "python",
   "pygments_lexer": "ipython3",
   "version": "3.7.4"
  }
 },
 "nbformat": 4,
 "nbformat_minor": 2
}
