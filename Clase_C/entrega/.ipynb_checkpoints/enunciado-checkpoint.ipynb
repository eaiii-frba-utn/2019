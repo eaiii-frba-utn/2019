{
 "cells": [
  {
   "cell_type": "markdown",
   "metadata": {},
   "source": [
    "# Amplificador clase B.\n",
    "\n",
    "El amplificador de Clase B de la figura ha sido diseñado para maxima potencia de salida sin sobrepasar loa regímenes máximos del MOSFET. \n",
    "\n",
    "\n",
    "<img src=\"./claseC.png\">\n",
    "\n",
    "El mismo está excitado por una señal de AM cuya portadora sin modulación siendo Tc=0.1 us. \n",
    "\n",
    "<img src=\"./transferencia.png\">\n",
    "\n",
    "<img src=\"./portadora.png\">\n",
    "\n",
    "El valor pico V1 de la portadora rectangular varia en función de la señal modulante \n",
    "\n",
    " $V1 = 6.4 (1+0.8 cos(wm . t)) V$\n",
    "\n",
    "donde wm = 2 $\\pi$ 100 Hz\n",
    "\n",
    "\n",
    "El tanque LC está sintonizado a 10 MHz (Qo = 200 y Qc = 10 ).  \n",
    "\n",
    "Determinar \n",
    "\n",
    " 1. RL, L y C.\n",
    "    2. PEP: potencia en el pico de la envolvente sobre RL.\n",
    "    3. VEP: potencia en el valle de la envolvente sobre RL.\n",
    "    4. Poprom: potencia promedio disipada sobre RL en fundamental. \n",
    "    5. Pocarrie: potencia disipada sobre RL en 10 MHz si se corta la modulante.m \n",
    "    6. PDC: potencia de continua entregada por la fuente. \n",
    "    7. Pdis: potencia disipada en el MOSFET. \n",
    "    8. Pocarrie2: potencia disipada sobre RL en 20 MHz si se corta la modulante. \n",
    "    9. Índice de modulación a la salida $mo = \\frac{Vp-Vv}{Vp+Vm}$ \n",
    "    10. La transmisión es capturada por un Rx de AM que detecta la señal con cero distorsión. \n",
    "        Dibuje lo que mostraría un osciloscopio conectado sobre el parlante indicando puntos singulares de dicho oscilograma. \n",
    "\n",
    "\n"
   ]
  },
  {
   "cell_type": "code",
   "execution_count": null,
   "metadata": {},
   "outputs": [],
   "source": []
  }
 ],
 "metadata": {
  "kernelspec": {
   "display_name": "Python 3",
   "language": "python",
   "name": "python3"
  },
  "language_info": {
   "codemirror_mode": {
    "name": "ipython",
    "version": 3
   },
   "file_extension": ".py",
   "mimetype": "text/x-python",
   "name": "python",
   "nbconvert_exporter": "python",
   "pygments_lexer": "ipython3",
   "version": "3.5.4"
  }
 },
 "nbformat": 4,
 "nbformat_minor": 2
}
