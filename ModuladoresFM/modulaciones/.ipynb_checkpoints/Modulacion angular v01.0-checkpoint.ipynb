{
 "cells": [
  {
   "cell_type": "code",
   "execution_count": 10,
   "metadata": {},
   "outputs": [],
   "source": [
    "from __future__ import print_function\n",
    "from ipywidgets import interact, interactive, fixed, interact_manual\n",
    "import ipywidgets as widgets\n",
    "\n",
    "from scipy.fftpack import fft, fftfreq\n",
    "from time import time\n",
    "\n",
    "import math\n",
    "import numpy as np\n",
    "import matplotlib.pyplot as plt\n",
    "import scipy                  # http://scipy.org/\n",
    "import scipy.odr, scipy.special, scipy.stats \n",
    "import sys\n",
    "import pandas as pd\n",
    "from scipy import stats\n",
    "from scipy import integrate\n",
    "\n",
    "from IPython.display import Image  \n",
    "%matplotlib inline\n",
    "params = {'legend.fontsize': 24,\n",
    "          'figure.figsize': (15, 5),\n",
    "         'axes.labelsize': 24,\n",
    "         'axes.titlesize': 24,\n",
    "         'xtick.labelsize':24,\n",
    "         'ytick.labelsize':24}\n",
    "plt.rcParams.update(params)\n",
    "\n"
   ]
  },
  {
   "cell_type": "markdown",
   "metadata": {},
   "source": [
    "## Modulaciones angulares\n",
    "En las modulaciones angulares, es la fase  o la frecuencia de la portadora la que es modulada.\n",
    "\n",
    "$$c(t)=A_{c}\\cos(\\omega _{c}t )$$\n",
    "\n",
    "\n",
    "Los tipos de modulaciones angulares son: FM (Frequency Modulation) y PM (Phase Modulation)\n",
    "\n",
    "Podemos representar ambas modulaciones como:\n",
    "\n",
    "$$x(t)=A_{c} \\cos( \\theta_{i} (t) )$$\n",
    "\n",
    "Para las modulaciones en fase PM se varia el ángunlo $\\theta_i(t)$\n",
    "\n",
    "$$\\theta _{i}(t) = \\omega t + \\theta_o + k_{PM} F(t)$$ \n",
    "\n",
    "\n",
    "\n",
    "Para las modulaciones  en frecuencia FM se varia la frecuencia $\\omega$\n",
    "\n",
    "$$\\theta _{i}(t) = \\omega_i(t) \\cdot t$$ \n",
    "\n",
    "$$\\omega_c(t) = \\omega_c + k_{FM} F(t)$$\n",
    "\n",
    "Como se relacionan la frecuencia y la fase de una señal?\n",
    "La frecuencia es la derivada de la fase!\n",
    "\n",
    "$$ \\omega _{i}(t) = \\frac{\\partial \\theta_{i}(t)}{\\partial t}$$\n",
    "\n",
    "$$ \\omega _{i}(t) = \\frac{\\partial (\\omega_c \\cdot t + \\theta_o + k_{PM} F(t) )}{\\partial t}$$\n",
    "\n",
    "$$ \\omega _{i}(t) = \\omega_c  + k_{PM} \\frac{\\partial ( F(t) )}{\\partial t}$$\n",
    "\n",
    "De igual manera\n",
    "\n",
    "$$ \\theta_{i}(t) = \\omega_c \\cdot t  + k_{FM} \\int F(t) dt $$\n",
    "\n",
    "\n",
    "![ex 2.13](RelacionesPMFM.png)"
   ]
  },
  {
   "cell_type": "markdown",
   "metadata": {},
   "source": [
    "### Modulacion en Fase (PM)\n",
    "\n",
    "$$F_{PM}(t) = A_c\\cos(\\omega_\\mathrm{c}t + k_p \\cdot f_m(t) )$$\n",
    "\n",
    "si $f_m(t) = \\Delta v_m \\cos (\\omega_m \\cdot t)$\n",
    "\n",
    "$$F_{PM}(t) = A_c\\cos(\\omega_\\mathrm{c}t + k_p \\cdot \\Delta v_m \\cos (\\omega_m \\cdot t))$$\n",
    "\n",
    "donde \n",
    "\n",
    "$$\\omega_i = \\frac{\\partial \\theta}{\\partial t}$$\n",
    "\n",
    "$$\\omega_i = \\omega_c - k_p \\Delta v_m \\omega_m \\sin (\\omega_m \\cdot t)$$\n",
    "\n",
    "donde llamamos como indice de modulación de fase: \n",
    "\n",
    "$$\\beta_p = k_p \\Delta v_m \\omega_m $$\n",
    "\n",
    "Donde vemos que \n",
    "\n",
    "$$\\Delta \\omega= k_p \\Delta v_m \\omega_m$$"
   ]
  },
  {
   "cell_type": "markdown",
   "metadata": {},
   "source": [
    "### Modulacion en Frecuencia (FM)\n",
    "\n",
    "$$F_{fm}= \\cos[w_c t + k_f \\int f{(t)} dt]$$\n",
    "\n",
    "si $f_m(t) = \\Delta v_m \\cos (\\omega_m \\cdot t)$\n",
    "\n",
    "$$F_{fm}= \\cos[w_c t + k_f \\int \\Delta v_m \\cos (\\omega_m \\cdot t) dt]$$\n",
    "\n",
    "$$F_{fm}= \\cos[w_c t + \\frac{k_f  \\Delta v_m}{\\omega_m} \\sin (\\omega_m \\cdot t) dt]$$\n",
    "\n",
    "\n",
    "donde llamamos como indice de modulación de frecuencia: \n",
    "\n",
    "$$\\beta_f = \\frac{k_p \\Delta v_m}{\\omega_m} = \\frac{\\Delta \\omega_m}{\\omega_m}  $$"
   ]
  },
  {
   "cell_type": "code",
   "execution_count": 11,
   "metadata": {},
   "outputs": [],
   "source": [
    "# Ejemplo FM en el tiempo\n",
    "# modulante\n",
    "fm   = 10 #Hz\n",
    "Am   = 1   \n",
    "# carrier\n",
    "fc   = 200\n",
    "kf   = 4 # Hz/volt\n",
    "kp   = 4 # Hz/volt\n",
    "Ac   = 1\n",
    "\n",
    "# defino el sampleo\n",
    "Fs = 10*fc #Sps \n",
    "dt = 1/Fs\n",
    "# tiempo maximo del analisis \n",
    "# Periodo de la frecuencia minima\n",
    "fmmin = 10 \n",
    "fmmax = 20\n",
    "T = 2/fmmin\n",
    "\n",
    "# vector de tiempo \n",
    "t  = np.arange(0, T, dt)\n",
    "\n",
    "def modulante(Am, fm, t):\n",
    "    # modulante\n",
    "    Sm   = Am*np.cos(2*np.pi*fm*t) \n",
    "    return Sm\n",
    "\n",
    "\n",
    "\n",
    "def modFM(Am,fm):\n",
    "    Sm  = modulante(Am,fm,t)\n",
    "    # modulada\n",
    "    ISm  = np.poly1d(Sm)\n",
    "    wi   = kf*ISm\n",
    "    Sfm  = Ac*np.cos(2*np.pi*fc*t + wi)  \n",
    "\n",
    "    #plt.plot(t, Sfm)\n",
    "    #plt.ylabel('Sm [V]')\n",
    "    #plt.xlabel('freq[Hz]')\n",
    "    #plt.show()\n",
    "    \n",
    "    Y = fft(Sfm) / len(Sfm)  # Normalizada\n",
    "    frq = fftfreq(len(Sfm), dt)  # Recuperamos las frecuencias\n",
    "\n",
    "    plt.plot(frq, np.abs(Y), 'ro-' )  # Representamos la parte imaginaria\n",
    "    plt.ylim(-0.1, 0.8)\n",
    "    plt.xlabel('$Frecuencia/Hz$')\n",
    "    plt.ylabel('$Abs(Y)$')\n",
    "    plt.grid()\n",
    "    plt.show()\n",
    "    \n",
    "    \n",
    "\n",
    "def modPM(Am,fm):\n",
    "    Sm  = modulante(Am,fm,t)\n",
    "    # modulada\n",
    "    #ISm  = np.poly1d(Sm)\n",
    "    ISm  =  Sm\n",
    "    wi   = kp*ISm\n",
    "    Sfm  = Ac*np.cos(2*np.pi*fc*t + wi)  \n",
    "\n",
    "    plt.plot(t, Sfm)\n",
    "    plt.ylabel('PM(t)/V')\n",
    "    plt.xlabel('Time/s')\n",
    "    plt.show()    "
   ]
  },
  {
   "cell_type": "code",
   "execution_count": 13,
   "metadata": {},
   "outputs": [
    {
     "data": {
      "application/vnd.jupyter.widget-view+json": {
       "model_id": "669b7f5d2fd94c8aae76130b6da019a7",
       "version_major": 2,
       "version_minor": 0
      },
      "text/plain": [
       "interactive(children=(FloatSlider(value=1.0, description='Am', max=2.0), FloatSlider(value=15.0, description='…"
      ]
     },
     "metadata": {},
     "output_type": "display_data"
    },
    {
     "data": {
      "text/plain": [
       "<function __main__.modPM(Am, fm)>"
      ]
     },
     "execution_count": 13,
     "metadata": {},
     "output_type": "execute_result"
    }
   ],
   "source": [
    "interact(modPM, Am=(0,2,0.1), fm=(fmmin,fmmax,0.1) )"
   ]
  },
  {
   "cell_type": "code",
   "execution_count": null,
   "metadata": {
    "collapsed": true
   },
   "outputs": [],
   "source": []
  }
 ],
 "metadata": {
  "kernelspec": {
   "display_name": "Python 3",
   "language": "python",
   "name": "python3"
  },
  "language_info": {
   "codemirror_mode": {
    "name": "ipython",
    "version": 3
   },
   "file_extension": ".py",
   "mimetype": "text/x-python",
   "name": "python",
   "nbconvert_exporter": "python",
   "pygments_lexer": "ipython3",
   "version": "3.7.4"
  }
 },
 "nbformat": 4,
 "nbformat_minor": 1
}
